{
 "cells": [
  {
   "cell_type": "markdown",
   "metadata": {},
   "source": [
    "<img src = \"logo.png\">\n",
    "\n",
    "# Welcome to the SRC Learning Environment!\n",
    "\n",
    "Here you can do things like\n",
    "\n",
    "- take guided courses with SRC staff\n",
    "- self-instruct with pre-made lessons\n",
    "- just mess around with provided scripts and datasets."
   ]
  },
  {
   "cell_type": "markdown",
   "metadata": {},
   "source": [
    "## Overview\n",
    "\n",
    "In the left pane, you will see the lessons available to you in the learning environment. In a moment, we'll pick one of them and it will replace this introductory script in the middle pane. On the right, you should see a terminal window, which you can use to interact directly with the Farmshare node to which you're connected.\n",
    "If any of this feels jargony right now, don't worry, we'll go over it as we go along!\n",
    "\n",
    "## Getting Started\n",
    "\n",
    "Feel free to come back here to check out some of the other lessons, resources and datasets we've put together for you. There are a ton of things you can try here, all without worrying about breaking stuff! And we've put together lots of data and scripts relevant to many real fields, so you won't have to re-learn the wheel when you're applying what you learn here to your own research. So come back whenever to look around and try things out!\n",
    "\n",
    "For now, though, your instructor will let you know which lesson to select in the _File Browser_ pane on the left. That lesson will replace me here in the middle pane, so I'll see you later!"
   ]
  },
  {
   "cell_type": "code",
   "execution_count": null,
   "metadata": {},
   "outputs": [],
   "source": []
  }
 ],
 "metadata": {
  "kernelspec": {
   "display_name": "Python 3 (ipykernel)",
   "language": "python",
   "name": "python3"
  },
  "language_info": {
   "codemirror_mode": {
    "name": "ipython",
    "version": 3
   },
   "file_extension": ".py",
   "mimetype": "text/x-python",
   "name": "python",
   "nbconvert_exporter": "python",
   "pygments_lexer": "ipython3",
   "version": "3.13.0"
  }
 },
 "nbformat": 4,
 "nbformat_minor": 4
}
